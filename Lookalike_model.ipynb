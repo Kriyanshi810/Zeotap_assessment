{
  "nbformat": 4,
  "nbformat_minor": 0,
  "metadata": {
    "colab": {
      "provenance": []
    },
    "kernelspec": {
      "name": "python3",
      "display_name": "Python 3"
    },
    "language_info": {
      "name": "python"
    }
  },
  "cells": [
    {
      "cell_type": "code",
      "source": [
        "import numpy as np\n",
        "import pandas as pd"
      ],
      "metadata": {
        "id": "dXIdqn9kswSe"
      },
      "execution_count": 3,
      "outputs": []
    },
    {
      "cell_type": "code",
      "source": [
        "customers = pd.read_csv('/content/Customers.csv')\n",
        "products = pd.read_csv('/content/Products.csv')\n",
        "transactions = pd.read_csv('/content/Transactions.csv')"
      ],
      "metadata": {
        "id": "rN7wK9BUsmbm"
      },
      "execution_count": 7,
      "outputs": []
    },
    {
      "cell_type": "code",
      "source": [
        "from sklearn.preprocessing import StandardScaler\n",
        "from sklearn.metrics.pairwise import cosine_similarity\n",
        "\n",
        "# Create customer profiles\n",
        "customer_profiles = transactions.groupby('CustomerID').agg({\n",
        "    'TotalValue': 'sum',\n",
        "    'Quantity': 'sum',\n",
        "    'ProductID': 'nunique'\n",
        "}).reset_index()\n",
        "\n",
        "customer_profiles = customer_profiles.merge(customers[['CustomerID', 'Region']], on='CustomerID')\n",
        "\n",
        "# One-hot encoding\n",
        "customer_profiles = pd.get_dummies(customer_profiles, columns=['Region'])\n",
        "\n",
        "# Normalize features\n",
        "scaler = StandardScaler()\n",
        "features = scaler.fit_transform(customer_profiles.drop('CustomerID', axis=1))\n",
        "\n",
        "# Cosine similarity\n",
        "similarity_matrix = cosine_similarity(features)\n",
        "\n",
        "# Get top 3 similar customers\n",
        "lookalike_results = {}\n",
        "for idx, customer_id in enumerate(customer_profiles['CustomerID']):\n",
        "    similar_indices = np.argsort(-similarity_matrix[idx])[1:4]  # Skip self-similarity\n",
        "    similar_customers = customer_profiles.iloc[similar_indices]['CustomerID'].values\n",
        "    scores = similarity_matrix[idx][similar_indices]\n",
        "    lookalike_results[customer_id] = list(zip(similar_customers, scores))\n",
        "\n",
        "# Save lookalike results\n",
        "lookalike_df = pd.DataFrame([\n",
        "    {'cust_id': key, 'lookalikes': value}\n",
        "    for key, value in lookalike_results.items()\n",
        "])\n",
        "lookalike_df.to_csv('FirstName_LastName_Lookalike.csv', index=False)\n"
      ],
      "metadata": {
        "id": "5p193leLsdYW"
      },
      "execution_count": 8,
      "outputs": []
    },
    {
      "cell_type": "code",
      "source": [
        "a=pd.read_csv('/content/FirstName_LastName_Lookalike.csv')"
      ],
      "metadata": {
        "id": "Y5u6_jX9vTvs"
      },
      "execution_count": 9,
      "outputs": []
    },
    {
      "cell_type": "code",
      "source": [
        "print(a)"
      ],
      "metadata": {
        "colab": {
          "base_uri": "https://localhost:8080/"
        },
        "id": "htlUhouuvZRk",
        "outputId": "6000c354-86d5-44a6-97a0-d9abec23803f"
      },
      "execution_count": 10,
      "outputs": [
        {
          "output_type": "stream",
          "name": "stdout",
          "text": [
            "    cust_id                                         lookalikes\n",
            "0     C0001  [('C0107', 0.9967254279047943), ('C0137', 0.99...\n",
            "1     C0002  [('C0142', 0.9945338541294934), ('C0177', 0.98...\n",
            "2     C0003  [('C0133', 0.9663811898389756), ('C0190', 0.96...\n",
            "3     C0004  [('C0113', 0.988351024735706), ('C0102', 0.972...\n",
            "4     C0005  [('C0186', 0.9985801194257661), ('C0159', 0.99...\n",
            "..      ...                                                ...\n",
            "194   C0196  [('C0066', 0.9388086443339202), ('C0170', 0.89...\n",
            "195   C0197  [('C0073', 0.9975449329947235), ('C0167', 0.99...\n",
            "196   C0198  [('C0063', 0.9945834523031237), ('C0014', 0.99...\n",
            "197   C0199  [('C0166', 0.9855536644055365), ('C0197', 0.98...\n",
            "198   C0200  [('C0022', 0.9763729421821856), ('C0138', 0.96...\n",
            "\n",
            "[199 rows x 2 columns]\n"
          ]
        }
      ]
    },
    {
      "cell_type": "code",
      "source": [
        "def calculate_accuracy(predictions, ground_truth):\n",
        "    \"\"\"Calculates the accuracy of the lookalike model predictions.\"\"\"\n",
        "\n",
        "    # Ensure customer IDs are in the same format (e.g., strings)\n",
        "    predictions['cust_id'] = predictions['cust_id'].astype(str)\n",
        "    ground_truth['cust_id'] = ground_truth['cust_id'].astype(str)\n",
        "\n",
        "    merged_df = pd.merge(predictions, ground_truth, on='cust_id', how='inner')\n",
        "\n",
        "    # Initialize counters\n",
        "    correct_predictions = 0\n",
        "    total_predictions = 0\n",
        "\n",
        "    for index, row in merged_df.iterrows():\n",
        "        predicted_lookalikes = set([x[0] for x in eval(row['lookalikes_x'])])\n",
        "        actual_lookalikes = set([x[0] for x in eval(row['lookalikes_y'])])\n",
        "\n",
        "\n",
        "        if predicted_lookalikes.intersection(actual_lookalikes):\n",
        "          correct_predictions += 1\n",
        "        total_predictions += 1\n",
        "\n",
        "    if total_predictions == 0:\n",
        "        print(\"Warning: No matching customer IDs found between predictions and ground truth.\")\n",
        "        return 0\n",
        "\n",
        "    accuracy = correct_predictions / total_predictions\n",
        "    return accuracy"
      ],
      "metadata": {
        "id": "oZta43zZwRNf"
      },
      "execution_count": 13,
      "outputs": []
    },
    {
      "cell_type": "code",
      "source": [
        "accuracy = calculate_accuracy(a, ground_truth)\n",
        "print(f\"Accuracy: {accuracy:.2%}\")"
      ],
      "metadata": {
        "colab": {
          "base_uri": "https://localhost:8080/"
        },
        "id": "8a384bfWwkkO",
        "outputId": "841fd336-6ebc-40c4-e425-7b3b0f6b3b41"
      },
      "execution_count": 15,
      "outputs": [
        {
          "output_type": "stream",
          "name": "stdout",
          "text": [
            "Accuracy: 100.00%\n"
          ]
        }
      ]
    }
  ]
}